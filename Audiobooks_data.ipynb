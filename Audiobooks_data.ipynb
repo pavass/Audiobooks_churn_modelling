{
  "nbformat": 4,
  "nbformat_minor": 0,
  "metadata": {
    "colab": {
      "name": "Audiobooks_data.ipynb",
      "provenance": [],
      "collapsed_sections": [],
      "authorship_tag": "ABX9TyMeFlQ12SphnU/B4GQMOL+U",
      "include_colab_link": true
    },
    "kernelspec": {
      "name": "python3",
      "display_name": "Python 3"
    }
  },
  "cells": [
    {
      "cell_type": "markdown",
      "metadata": {
        "id": "view-in-github",
        "colab_type": "text"
      },
      "source": [
        "<a href=\"https://colab.research.google.com/github/pavass/Audiobooks_churn_modelling/blob/master/Audiobooks_data.ipynb\" target=\"_parent\"><img src=\"https://colab.research.google.com/assets/colab-badge.svg\" alt=\"Open In Colab\"/></a>"
      ]
    },
    {
      "cell_type": "code",
      "metadata": {
        "id": "Y2hF-GJTblAY",
        "colab_type": "code",
        "colab": {}
      },
      "source": [
        "import numpy as np\n",
        "import tensorflow as tf\n",
        "\n",
        "\n",
        "# We will use the sklearn preprocessing library, as it will be easier to standardize the data.\n",
        "from sklearn import preprocessing\n",
        "\n",
        "# Load the data\n",
        "raw_csv_data = np.loadtxt('original.csv',delimiter=',')\n",
        "\n",
        "# The inputs are all columns in the csv, except for the first one [:,0]\n",
        "# (which is just the arbitrary customer IDs that bear no useful information),\n",
        "# and the last one [:,-1] (which is our targets)\n",
        "\n",
        "unscaled_inputs_all = raw_csv_data[:,1:-1]\n",
        "\n",
        "# The targets are in the last column. That's how datasets are conventionally organized.\n",
        "targets_all = raw_csv_data[:,-1]"
      ],
      "execution_count": 0,
      "outputs": []
    },
    {
      "cell_type": "markdown",
      "metadata": {
        "id": "ZdvpHfjlczne",
        "colab_type": "text"
      },
      "source": [
        "##Balance the dataset\n"
      ]
    },
    {
      "cell_type": "code",
      "metadata": {
        "id": "Cy4zm9j2c9f3",
        "colab_type": "code",
        "colab": {}
      },
      "source": [
        "# Count how many targets are 1 (meaning that the customer did convert)\n",
        "num_one_targets = int(np.sum(targets_all))\n",
        "\n",
        "# Set a counter for targets that are 0 (meaning that the customer did not convert)\n",
        "zero_targets_counter = 0\n",
        "\n",
        "# We want to create a \"balanced\" dataset, so we will have to remove some input/target pairs.\n",
        "# Declare a variable that will do that:\n",
        "indices_to_remove = []\n",
        "\n",
        "# Count the number of targets that are 0. \n",
        "# Once there are as many 0s as 1s, mark entries where the target is 0.\n",
        "for i in range(targets_all.shape[0]):\n",
        "    if targets_all[i] == 0:\n",
        "        zero_targets_counter += 1\n",
        "        if zero_targets_counter > num_one_targets:\n",
        "            indices_to_remove.append(i)\n",
        "\n",
        "# Create two new variables, one that will contain the inputs, and one that will contain the targets.\n",
        "# We delete all indices that we marked \"to remove\" in the loop above.\n",
        "unscaled_inputs_equal_priors = np.delete(unscaled_inputs_all, indices_to_remove, axis=0)\n",
        "targets_equal_priors = np.delete(targets_all, indices_to_remove, axis=0)"
      ],
      "execution_count": 0,
      "outputs": []
    },
    {
      "cell_type": "markdown",
      "metadata": {
        "id": "HqfdrX8rfOwe",
        "colab_type": "text"
      },
      "source": [
        "##Standardize the inputs"
      ]
    },
    {
      "cell_type": "code",
      "metadata": {
        "id": "xQa0XrGefS0p",
        "colab_type": "code",
        "colab": {}
      },
      "source": [
        "# That's the only place we use sklearn functionality. We will take advantage of its preprocessing capabilities\n",
        "# It's a simple line of code, which standardizes the inputs, as we explained in one of the lectures.\n",
        "# At the end of the business case, you can try to run the algorithm WITHOUT this line of code. \n",
        "# The result will be interesting.\n",
        "scaled_inputs = preprocessing.scale(unscaled_inputs_equal_priors)"
      ],
      "execution_count": 0,
      "outputs": []
    },
    {
      "cell_type": "markdown",
      "metadata": {
        "id": "B0uL8DJbfjSB",
        "colab_type": "text"
      },
      "source": [
        "##Shuffle the data"
      ]
    },
    {
      "cell_type": "code",
      "metadata": {
        "id": "oB79NbJwfoKg",
        "colab_type": "code",
        "colab": {}
      },
      "source": [
        "# When the data was collected it was actually arranged by date\n",
        "# Shuffle the indices of the data, so the data is not arranged in any way when we feed it.\n",
        "# Since we will be batching, we want the data to be as randomly spread out as possible\n",
        "shuffled_indices = np.arange(scaled_inputs.shape[0])\n",
        "np.random.shuffle(shuffled_indices)\n",
        "\n",
        "# Use the shuffled indices to shuffle the inputs and targets.\n",
        "shuffled_inputs = scaled_inputs[shuffled_indices]\n",
        "shuffled_targets = targets_equal_priors[shuffled_indices]"
      ],
      "execution_count": 0,
      "outputs": []
    },
    {
      "cell_type": "markdown",
      "metadata": {
        "id": "HPBGEsrBtwdA",
        "colab_type": "text"
      },
      "source": [
        "##Split the dataset into train,validation and test"
      ]
    },
    {
      "cell_type": "code",
      "metadata": {
        "id": "sCIfvbnVt8ao",
        "colab_type": "code",
        "outputId": "66c8c8dd-66f6-4467-f9d0-144f7a3633e7",
        "colab": {
          "base_uri": "https://localhost:8080/",
          "height": 68
        }
      },
      "source": [
        "# Count the total number of samples\n",
        "samples_count = shuffled_inputs.shape[0]\n",
        "\n",
        "# Count the samples in each subset, assuming we want 80-10-10 distribution of training, validation, and test.\n",
        "# Naturally, the numbers are integers.\n",
        "train_samples_count = int(0.8 * samples_count)\n",
        "validation_samples_count = int(0.1 * samples_count)\n",
        "\n",
        "# The 'test' dataset contains all remaining data.\n",
        "test_samples_count = samples_count - train_samples_count - validation_samples_count\n",
        "\n",
        "# Create variables that record the inputs and targets for training\n",
        "# In our shuffled dataset, they are the first \"train_samples_count\" observations\n",
        "train_inputs = shuffled_inputs[:train_samples_count]\n",
        "train_targets = shuffled_targets[:train_samples_count]\n",
        "\n",
        "# Create variables that record the inputs and targets for validation.\n",
        "# They are the next \"validation_samples_count\" observations, folllowing the \"train_samples_count\" we already assigned\n",
        "validation_inputs = shuffled_inputs[train_samples_count:train_samples_count+validation_samples_count]\n",
        "validation_targets = shuffled_targets[train_samples_count:train_samples_count+validation_samples_count]\n",
        "\n",
        "# Create variables that record the inputs and targets for test.\n",
        "# They are everything that is remaining.\n",
        "test_inputs = shuffled_inputs[train_samples_count+validation_samples_count:]\n",
        "test_targets = shuffled_targets[train_samples_count+validation_samples_count:]\n",
        "# We balanced our dataset to be 50-50 (for targets 0 and 1), but the training, validation, and test were \n",
        "# taken from a shuffled dataset. Check if they are balanced, too. Note that each time you rerun this code, \n",
        "# you will get different values, as each time they are shuffled randomly.\n",
        "# Normally you preprocess ONCE, so you need not rerun this code once it is done.\n",
        "# If you rerun this whole sheet, the npzs will be overwritten with your newly preprocessed data.\n",
        "\n",
        "# Print the number of targets that are 1s, the total number of samples, and the proportion for training, validation, and test.\n",
        "print(np.sum(train_targets), train_samples_count, np.sum(train_targets) / train_samples_count)\n",
        "print(np.sum(validation_targets), validation_samples_count, np.sum(validation_targets) / validation_samples_count)\n",
        "print(np.sum(test_targets), test_samples_count, np.sum(test_targets) / test_samples_count)"
      ],
      "execution_count": 0,
      "outputs": [
        {
          "output_type": "stream",
          "text": [
            "1809.0 3579 0.5054484492875104\n",
            "214.0 447 0.47874720357941836\n",
            "214.0 448 0.47767857142857145\n"
          ],
          "name": "stdout"
        }
      ]
    },
    {
      "cell_type": "code",
      "metadata": {
        "id": "L5oKE8flvKoo",
        "colab_type": "code",
        "colab": {}
      },
      "source": [
        ""
      ],
      "execution_count": 0,
      "outputs": []
    },
    {
      "cell_type": "markdown",
      "metadata": {
        "id": "F4KH_W-YvT3l",
        "colab_type": "text"
      },
      "source": [
        "##Save the three datasets in .npz"
      ]
    },
    {
      "cell_type": "code",
      "metadata": {
        "id": "Dr0Q4guRvYMi",
        "colab_type": "code",
        "colab": {}
      },
      "source": [
        "# Save the three datasets in *.npz.\n",
        "# In the next lesson, you will see that it is extremely valuable to name them in such a coherent way!\n",
        "\n",
        "np.savez('Audiobooks_data_train', inputs=train_inputs, targets=train_targets)\n",
        "np.savez('Audiobooks_data_validation', inputs=validation_inputs, targets=validation_targets)\n",
        "np.savez('Audiobooks_data_test', inputs=test_inputs, targets=test_targets)"
      ],
      "execution_count": 0,
      "outputs": []
    },
    {
      "cell_type": "code",
      "metadata": {
        "id": "nB982TYLvj8U",
        "colab_type": "code",
        "colab": {}
      },
      "source": [
        "npz=np.load('Audiobooks_data_train.npz')\n",
        "train_inputs=npz['inputs'].astype(np.float)\n",
        "train_targets=npz['targets'].astype(np.int)\n",
        "npz=np.load('Audiobooks_data_validation.npz')\n",
        "validation_inputs,validation_targets=npz['inputs'].astype(np.float),npz['targets'].astype(np.int)\n",
        "npz=np.load('Audiobooks_data_test.npz')\n",
        "test_inputs,test_targets=npz['inputs'].astype(np.float),npz['targets'].astype(np.int)"
      ],
      "execution_count": 0,
      "outputs": []
    },
    {
      "cell_type": "code",
      "metadata": {
        "id": "2O8uV-3xyZ_B",
        "colab_type": "code",
        "colab": {}
      },
      "source": [
        ""
      ],
      "execution_count": 0,
      "outputs": []
    },
    {
      "cell_type": "markdown",
      "metadata": {
        "id": "RjXMNp95ypv9",
        "colab_type": "text"
      },
      "source": [
        "##Model"
      ]
    },
    {
      "cell_type": "code",
      "metadata": {
        "id": "htks0SPkyrUU",
        "colab_type": "code",
        "outputId": "8f07c71e-38ec-41db-da14-d74212a44f2c",
        "colab": {
          "base_uri": "https://localhost:8080/",
          "height": 544
        }
      },
      "source": [
        "input_size=10\n",
        "output_size=2\n",
        "hidden_layer_size=100\n",
        "early_stopping=tf.keras.callbacks.EarlyStopping(patience=2)\n",
        "model=tf.keras.Sequential([\n",
        "                           tf.keras.layers.Dense(hidden_layer_size,activation='relu'),\n",
        "                           tf.keras.layers.Dense(hidden_layer_size,activation='relu'),\n",
        "                           tf.keras.layers.Dense(output_size,activation='softmax')\n",
        "\n",
        "                            \n",
        "])\n",
        "model.compile(optimizer='adam',loss='sparse_categorical_crossentropy',metrics=['accuracy'])\n",
        "batch_size=100\n",
        "max_epochs=100\n",
        "model.fit(train_inputs,train_targets,batch_size=batch_size,epochs=max_epochs,callbacks=[early_stopping],validation_data=(validation_inputs,validation_targets),verbose=2)"
      ],
      "execution_count": 0,
      "outputs": [
        {
          "output_type": "stream",
          "text": [
            "Epoch 1/100\n",
            "36/36 - 0s - loss: 0.5483 - accuracy: 0.7142 - val_loss: 0.4477 - val_accuracy: 0.7472\n",
            "Epoch 2/100\n",
            "36/36 - 0s - loss: 0.4150 - accuracy: 0.7742 - val_loss: 0.4005 - val_accuracy: 0.7830\n",
            "Epoch 3/100\n",
            "36/36 - 0s - loss: 0.3771 - accuracy: 0.8019 - val_loss: 0.3776 - val_accuracy: 0.7964\n",
            "Epoch 4/100\n",
            "36/36 - 0s - loss: 0.3625 - accuracy: 0.8044 - val_loss: 0.3671 - val_accuracy: 0.7987\n",
            "Epoch 5/100\n",
            "36/36 - 0s - loss: 0.3531 - accuracy: 0.8069 - val_loss: 0.3679 - val_accuracy: 0.7987\n",
            "Epoch 6/100\n",
            "36/36 - 0s - loss: 0.3486 - accuracy: 0.8094 - val_loss: 0.3613 - val_accuracy: 0.7964\n",
            "Epoch 7/100\n",
            "36/36 - 0s - loss: 0.3439 - accuracy: 0.8134 - val_loss: 0.3557 - val_accuracy: 0.7919\n",
            "Epoch 8/100\n",
            "36/36 - 0s - loss: 0.3453 - accuracy: 0.8106 - val_loss: 0.3674 - val_accuracy: 0.7919\n",
            "Epoch 9/100\n",
            "36/36 - 0s - loss: 0.3369 - accuracy: 0.8192 - val_loss: 0.3521 - val_accuracy: 0.8009\n",
            "Epoch 10/100\n",
            "36/36 - 0s - loss: 0.3331 - accuracy: 0.8192 - val_loss: 0.3488 - val_accuracy: 0.8076\n",
            "Epoch 11/100\n",
            "36/36 - 0s - loss: 0.3281 - accuracy: 0.8178 - val_loss: 0.3479 - val_accuracy: 0.8031\n",
            "Epoch 12/100\n",
            "36/36 - 0s - loss: 0.3282 - accuracy: 0.8231 - val_loss: 0.3521 - val_accuracy: 0.8054\n",
            "Epoch 13/100\n",
            "36/36 - 0s - loss: 0.3283 - accuracy: 0.8226 - val_loss: 0.3430 - val_accuracy: 0.8143\n",
            "Epoch 14/100\n",
            "36/36 - 0s - loss: 0.3242 - accuracy: 0.8189 - val_loss: 0.3439 - val_accuracy: 0.8098\n",
            "Epoch 15/100\n",
            "36/36 - 0s - loss: 0.3214 - accuracy: 0.8217 - val_loss: 0.3485 - val_accuracy: 0.8121\n"
          ],
          "name": "stdout"
        },
        {
          "output_type": "execute_result",
          "data": {
            "text/plain": [
              "<tensorflow.python.keras.callbacks.History at 0x7fcc6d1240f0>"
            ]
          },
          "metadata": {
            "tags": []
          },
          "execution_count": 25
        }
      ]
    },
    {
      "cell_type": "code",
      "metadata": {
        "id": "1bhpDClLz2VE",
        "colab_type": "code",
        "colab": {}
      },
      "source": [
        ""
      ],
      "execution_count": 0,
      "outputs": []
    },
    {
      "cell_type": "markdown",
      "metadata": {
        "id": "R0c4KzC-25J2",
        "colab_type": "text"
      },
      "source": [
        "##Test"
      ]
    },
    {
      "cell_type": "code",
      "metadata": {
        "id": "zQ8cWkPQ26RQ",
        "colab_type": "code",
        "outputId": "40e96c7f-f122-4fb5-f233-eb4dc9ebd474",
        "colab": {
          "base_uri": "https://localhost:8080/",
          "height": 34
        }
      },
      "source": [
        "test_loss,test_accuracy=model.evaluate(test_inputs,test_targets)"
      ],
      "execution_count": 0,
      "outputs": [
        {
          "output_type": "stream",
          "text": [
            "14/14 [==============================] - 0s 1ms/step - loss: 0.3342 - accuracy: 0.8237\n"
          ],
          "name": "stdout"
        }
      ]
    },
    {
      "cell_type": "code",
      "metadata": {
        "id": "wSMWIMgu3JZ7",
        "colab_type": "code",
        "colab": {}
      },
      "source": [
        "   "
      ],
      "execution_count": 0,
      "outputs": []
    }
  ]
}